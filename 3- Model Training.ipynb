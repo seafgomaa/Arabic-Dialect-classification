{
 "cells": [
  {
   "cell_type": "markdown",
   "id": "engaging-objective",
   "metadata": {},
   "source": [
    "# Machine learning"
   ]
  },
  {
   "cell_type": "markdown",
   "id": "educational-affiliate",
   "metadata": {},
   "source": [
    "## Import necessary libs\n"
   ]
  },
  {
   "cell_type": "code",
   "execution_count": 6,
   "id": "verbal-toronto",
   "metadata": {},
   "outputs": [],
   "source": [
    "import pandas as pd\n",
    "from sklearn.model_selection import train_test_split\n",
    "from sklearn import preprocessing\n",
    "from sklearn.feature_extraction.text import CountVectorizer\n",
    "from sklearn.feature_extraction.text import TfidfTransformer\n",
    "from sklearn.pipeline import Pipeline\n",
    "import numpy as np \n",
    "import matplotlib.pyplot as plt\n",
    "import re\n",
    "import pyarabic.araby as ar \n",
    "import unicodedata as ud\n",
    "import string\n",
    "from sklearn.metrics import classification_report\n",
    "import pickle"
   ]
  },
  {
   "cell_type": "markdown",
   "id": "progressive-democrat",
   "metadata": {},
   "source": [
    "## Reading preprocessed data"
   ]
  },
  {
   "cell_type": "code",
   "execution_count": 28,
   "id": "smoking-radical",
   "metadata": {},
   "outputs": [
    {
     "name": "stdout",
     "output_type": "stream",
     "text": [
      "The shape of the dataset is (458197, 4).\n",
      "\n",
      "\n"
     ]
    },
    {
     "data": {
      "text/html": [
       "<div>\n",
       "<style scoped>\n",
       "    .dataframe tbody tr th:only-of-type {\n",
       "        vertical-align: middle;\n",
       "    }\n",
       "\n",
       "    .dataframe tbody tr th {\n",
       "        vertical-align: top;\n",
       "    }\n",
       "\n",
       "    .dataframe thead th {\n",
       "        text-align: right;\n",
       "    }\n",
       "</style>\n",
       "<table border=\"1\" class=\"dataframe\">\n",
       "  <thead>\n",
       "    <tr style=\"text-align: right;\">\n",
       "      <th></th>\n",
       "      <th>Unnamed: 0</th>\n",
       "      <th>id</th>\n",
       "      <th>text</th>\n",
       "      <th>dialect</th>\n",
       "    </tr>\n",
       "  </thead>\n",
       "  <tbody>\n",
       "    <tr>\n",
       "      <th>0</th>\n",
       "      <td>0</td>\n",
       "      <td>1175358310087892992</td>\n",
       "      <td>لكن بالنهايه ينتفض يغير</td>\n",
       "      <td>IQ</td>\n",
       "    </tr>\n",
       "    <tr>\n",
       "      <th>1</th>\n",
       "      <td>1</td>\n",
       "      <td>1175416117793349632</td>\n",
       "      <td>يعني هذا محسوب علي البشر حيونه ووحشيه وتطلبون...</td>\n",
       "      <td>IQ</td>\n",
       "    </tr>\n",
       "    <tr>\n",
       "      <th>2</th>\n",
       "      <td>2</td>\n",
       "      <td>1175450108898565888</td>\n",
       "      <td>مبين من كلامه خليجي</td>\n",
       "      <td>IQ</td>\n",
       "    </tr>\n",
       "    <tr>\n",
       "      <th>3</th>\n",
       "      <td>3</td>\n",
       "      <td>1175471073770573824</td>\n",
       "      <td>يسلملي مرورك وروحك الحلوه</td>\n",
       "      <td>IQ</td>\n",
       "    </tr>\n",
       "    <tr>\n",
       "      <th>4</th>\n",
       "      <td>4</td>\n",
       "      <td>1175496913145217024</td>\n",
       "      <td>وين هل الغيبه اخ محمد</td>\n",
       "      <td>IQ</td>\n",
       "    </tr>\n",
       "    <tr>\n",
       "      <th>...</th>\n",
       "      <td>...</td>\n",
       "      <td>...</td>\n",
       "      <td>...</td>\n",
       "      <td>...</td>\n",
       "    </tr>\n",
       "    <tr>\n",
       "      <th>458192</th>\n",
       "      <td>458192</td>\n",
       "      <td>1019484980282580992</td>\n",
       "      <td>مبسوطين منك اللي باسطانا</td>\n",
       "      <td>BH</td>\n",
       "    </tr>\n",
       "    <tr>\n",
       "      <th>458193</th>\n",
       "      <td>458193</td>\n",
       "      <td>1021083283709407232</td>\n",
       "      <td>والله ماينده ابش يختي</td>\n",
       "      <td>BH</td>\n",
       "    </tr>\n",
       "    <tr>\n",
       "      <th>458194</th>\n",
       "      <td>458194</td>\n",
       "      <td>1017477537889431552</td>\n",
       "      <td>شو عملنا لك حنا تهربي مننا احنا مساكين ليش بت...</td>\n",
       "      <td>BH</td>\n",
       "    </tr>\n",
       "    <tr>\n",
       "      <th>458195</th>\n",
       "      <td>458195</td>\n",
       "      <td>1022430374696239232</td>\n",
       "      <td>الله يبارك فيها وبالعافيه</td>\n",
       "      <td>BH</td>\n",
       "    </tr>\n",
       "    <tr>\n",
       "      <th>458196</th>\n",
       "      <td>458196</td>\n",
       "      <td>1022409931029458944</td>\n",
       "      <td>السحله ضيفي ي بتطلع لك سحليه</td>\n",
       "      <td>BH</td>\n",
       "    </tr>\n",
       "  </tbody>\n",
       "</table>\n",
       "<p>458197 rows × 4 columns</p>\n",
       "</div>"
      ],
      "text/plain": [
       "        Unnamed: 0                   id  \\\n",
       "0                0  1175358310087892992   \n",
       "1                1  1175416117793349632   \n",
       "2                2  1175450108898565888   \n",
       "3                3  1175471073770573824   \n",
       "4                4  1175496913145217024   \n",
       "...            ...                  ...   \n",
       "458192      458192  1019484980282580992   \n",
       "458193      458193  1021083283709407232   \n",
       "458194      458194  1017477537889431552   \n",
       "458195      458195  1022430374696239232   \n",
       "458196      458196  1022409931029458944   \n",
       "\n",
       "                                                     text dialect  \n",
       "0                                لكن بالنهايه ينتفض يغير       IQ  \n",
       "1        يعني هذا محسوب علي البشر حيونه ووحشيه وتطلبون...      IQ  \n",
       "2                                     مبين من كلامه خليجي      IQ  \n",
       "3                              يسلملي مرورك وروحك الحلوه       IQ  \n",
       "4                                  وين هل الغيبه اخ محمد       IQ  \n",
       "...                                                   ...     ...  \n",
       "458192                          مبسوطين منك اللي باسطانا       BH  \n",
       "458193                              والله ماينده ابش يختي      BH  \n",
       "458194   شو عملنا لك حنا تهربي مننا احنا مساكين ليش بت...      BH  \n",
       "458195                         الله يبارك فيها وبالعافيه       BH  \n",
       "458196                      السحله ضيفي ي بتطلع لك سحليه       BH  \n",
       "\n",
       "[458197 rows x 4 columns]"
      ]
     },
     "execution_count": 28,
     "metadata": {},
     "output_type": "execute_result"
    }
   ],
   "source": [
    "df = pd.read_csv('./data/Preprocessed_data.csv')\n",
    "print(\"The shape of the dataset is {}.\\n\\n\".format(df.shape))\n",
    "df"
   ]
  },
  {
   "cell_type": "markdown",
   "id": "significant-modern",
   "metadata": {},
   "source": [
    "## Drop extra column"
   ]
  },
  {
   "cell_type": "code",
   "execution_count": 29,
   "id": "resident-natural",
   "metadata": {},
   "outputs": [
    {
     "data": {
      "text/html": [
       "<div>\n",
       "<style scoped>\n",
       "    .dataframe tbody tr th:only-of-type {\n",
       "        vertical-align: middle;\n",
       "    }\n",
       "\n",
       "    .dataframe tbody tr th {\n",
       "        vertical-align: top;\n",
       "    }\n",
       "\n",
       "    .dataframe thead th {\n",
       "        text-align: right;\n",
       "    }\n",
       "</style>\n",
       "<table border=\"1\" class=\"dataframe\">\n",
       "  <thead>\n",
       "    <tr style=\"text-align: right;\">\n",
       "      <th></th>\n",
       "      <th>id</th>\n",
       "      <th>text</th>\n",
       "      <th>dialect</th>\n",
       "    </tr>\n",
       "  </thead>\n",
       "  <tbody>\n",
       "    <tr>\n",
       "      <th>0</th>\n",
       "      <td>1175358310087892992</td>\n",
       "      <td>لكن بالنهايه ينتفض يغير</td>\n",
       "      <td>IQ</td>\n",
       "    </tr>\n",
       "    <tr>\n",
       "      <th>1</th>\n",
       "      <td>1175416117793349632</td>\n",
       "      <td>يعني هذا محسوب علي البشر حيونه ووحشيه وتطلبون...</td>\n",
       "      <td>IQ</td>\n",
       "    </tr>\n",
       "    <tr>\n",
       "      <th>2</th>\n",
       "      <td>1175450108898565888</td>\n",
       "      <td>مبين من كلامه خليجي</td>\n",
       "      <td>IQ</td>\n",
       "    </tr>\n",
       "    <tr>\n",
       "      <th>3</th>\n",
       "      <td>1175471073770573824</td>\n",
       "      <td>يسلملي مرورك وروحك الحلوه</td>\n",
       "      <td>IQ</td>\n",
       "    </tr>\n",
       "    <tr>\n",
       "      <th>4</th>\n",
       "      <td>1175496913145217024</td>\n",
       "      <td>وين هل الغيبه اخ محمد</td>\n",
       "      <td>IQ</td>\n",
       "    </tr>\n",
       "    <tr>\n",
       "      <th>...</th>\n",
       "      <td>...</td>\n",
       "      <td>...</td>\n",
       "      <td>...</td>\n",
       "    </tr>\n",
       "    <tr>\n",
       "      <th>458192</th>\n",
       "      <td>1019484980282580992</td>\n",
       "      <td>مبسوطين منك اللي باسطانا</td>\n",
       "      <td>BH</td>\n",
       "    </tr>\n",
       "    <tr>\n",
       "      <th>458193</th>\n",
       "      <td>1021083283709407232</td>\n",
       "      <td>والله ماينده ابش يختي</td>\n",
       "      <td>BH</td>\n",
       "    </tr>\n",
       "    <tr>\n",
       "      <th>458194</th>\n",
       "      <td>1017477537889431552</td>\n",
       "      <td>شو عملنا لك حنا تهربي مننا احنا مساكين ليش بت...</td>\n",
       "      <td>BH</td>\n",
       "    </tr>\n",
       "    <tr>\n",
       "      <th>458195</th>\n",
       "      <td>1022430374696239232</td>\n",
       "      <td>الله يبارك فيها وبالعافيه</td>\n",
       "      <td>BH</td>\n",
       "    </tr>\n",
       "    <tr>\n",
       "      <th>458196</th>\n",
       "      <td>1022409931029458944</td>\n",
       "      <td>السحله ضيفي ي بتطلع لك سحليه</td>\n",
       "      <td>BH</td>\n",
       "    </tr>\n",
       "  </tbody>\n",
       "</table>\n",
       "<p>458197 rows × 3 columns</p>\n",
       "</div>"
      ],
      "text/plain": [
       "                         id  \\\n",
       "0       1175358310087892992   \n",
       "1       1175416117793349632   \n",
       "2       1175450108898565888   \n",
       "3       1175471073770573824   \n",
       "4       1175496913145217024   \n",
       "...                     ...   \n",
       "458192  1019484980282580992   \n",
       "458193  1021083283709407232   \n",
       "458194  1017477537889431552   \n",
       "458195  1022430374696239232   \n",
       "458196  1022409931029458944   \n",
       "\n",
       "                                                     text dialect  \n",
       "0                                لكن بالنهايه ينتفض يغير       IQ  \n",
       "1        يعني هذا محسوب علي البشر حيونه ووحشيه وتطلبون...      IQ  \n",
       "2                                     مبين من كلامه خليجي      IQ  \n",
       "3                              يسلملي مرورك وروحك الحلوه       IQ  \n",
       "4                                  وين هل الغيبه اخ محمد       IQ  \n",
       "...                                                   ...     ...  \n",
       "458192                          مبسوطين منك اللي باسطانا       BH  \n",
       "458193                              والله ماينده ابش يختي      BH  \n",
       "458194   شو عملنا لك حنا تهربي مننا احنا مساكين ليش بت...      BH  \n",
       "458195                         الله يبارك فيها وبالعافيه       BH  \n",
       "458196                      السحله ضيفي ي بتطلع لك سحليه       BH  \n",
       "\n",
       "[458197 rows x 3 columns]"
      ]
     },
     "execution_count": 29,
     "metadata": {},
     "output_type": "execute_result"
    }
   ],
   "source": [
    "df = df.drop('Unnamed: 0',axis=1)\n",
    "df"
   ]
  },
  {
   "cell_type": "markdown",
   "id": "married-blowing",
   "metadata": {},
   "source": [
    "## Check for NAN values"
   ]
  },
  {
   "cell_type": "code",
   "execution_count": 30,
   "id": "civic-uncle",
   "metadata": {},
   "outputs": [
    {
     "data": {
      "text/plain": [
       "id         0\n",
       "text       0\n",
       "dialect    0\n",
       "dtype: int64"
      ]
     },
     "execution_count": 30,
     "metadata": {},
     "output_type": "execute_result"
    }
   ],
   "source": [
    "df.isna().sum()"
   ]
  },
  {
   "cell_type": "markdown",
   "id": "fatty-toronto",
   "metadata": {},
   "source": [
    "## Split data "
   ]
  },
  {
   "cell_type": "code",
   "execution_count": 31,
   "id": "applicable-walnut",
   "metadata": {},
   "outputs": [],
   "source": [
    "X = df['text']\n",
    "y = df['dialect']\n",
    "X_train, X_test, y_train, y_test = train_test_split(X,y,test_size=0.2, random_state=42)"
   ]
  },
  {
   "cell_type": "markdown",
   "id": "short-groove",
   "metadata": {},
   "source": [
    "## Victorize text data and apply TfIdf on it"
   ]
  },
  {
   "cell_type": "code",
   "execution_count": 32,
   "id": "alien-irish",
   "metadata": {},
   "outputs": [],
   "source": [
    "from sklearn.feature_extraction.text import CountVectorizer\n",
    "from sklearn.feature_extraction.text import TfidfTransformer\n",
    "\n",
    "victorizer = CountVectorizer()\n",
    "X_train = victorizer.fit_transform(X_train)\n",
    "transformer = TfidfTransformer()\n",
    "X_train = transformer.fit_transform(X_train)\n",
    "\n",
    "X_test = victorizer.transform(X_test)\n",
    "X_test = transformer.transform(X_test)"
   ]
  },
  {
   "cell_type": "markdown",
   "id": "excessive-panama",
   "metadata": {},
   "source": [
    "## Function to get accuarcy"
   ]
  },
  {
   "cell_type": "code",
   "execution_count": 33,
   "id": "unlikely-gardening",
   "metadata": {},
   "outputs": [],
   "source": [
    "def get_accuracy(trained_model,X, y):\n",
    "    predicted = trained_model.predict(X)\n",
    "    accuracy = np.mean(predicted == y)\n",
    "    return accuracy"
   ]
  },
  {
   "cell_type": "markdown",
   "id": "opposite-series",
   "metadata": {},
   "source": [
    "# Apply machine learning models"
   ]
  },
  {
   "cell_type": "markdown",
   "id": "recorded-arcade",
   "metadata": {},
   "source": [
    "### SGDClassifier"
   ]
  },
  {
   "cell_type": "code",
   "execution_count": 34,
   "id": "communist-blend",
   "metadata": {},
   "outputs": [
    {
     "name": "stdout",
     "output_type": "stream",
     "text": [
      "Test dataset accuracy with SGDClassifier: 0.50\n"
     ]
    }
   ],
   "source": [
    "from sklearn.linear_model import SGDClassifier\n",
    "trained_clf_SGDClassifier = SGDClassifier()\n",
    "trained_clf_SGDClassifier.fit(X_train, y_train)\n",
    "accuracy = get_accuracy(trained_clf_SGDClassifier,X_test, y_test)\n",
    "print(f\"Test dataset accuracy with SGDClassifier: {accuracy:.2f}\")"
   ]
  },
  {
   "cell_type": "markdown",
   "id": "hydraulic-cache",
   "metadata": {},
   "source": [
    "### LinearSVC"
   ]
  },
  {
   "cell_type": "code",
   "execution_count": 35,
   "id": "fossil-playback",
   "metadata": {},
   "outputs": [
    {
     "name": "stdout",
     "output_type": "stream",
     "text": [
      "Test dataset accuracy with LinearSVC: 0.54\n"
     ]
    }
   ],
   "source": [
    "from sklearn.svm import LinearSVC\n",
    "trained_clf_linearSVC = LinearSVC()\n",
    "trained_clf_linearSVC.fit(X_train, y_train)\n",
    "accuracy = get_accuracy(trained_clf_linearSVC, X_test, y_test)\n",
    "print(f\"Test dataset accuracy with LinearSVC: {accuracy:.2f}\")"
   ]
  },
  {
   "cell_type": "markdown",
   "id": "metropolitan-crash",
   "metadata": {},
   "source": [
    "### MultinomialNB"
   ]
  },
  {
   "cell_type": "code",
   "execution_count": 36,
   "id": "tired-criterion",
   "metadata": {},
   "outputs": [
    {
     "name": "stdout",
     "output_type": "stream",
     "text": [
      "Test dataset accuracy with MultinomialNB: 0.40\n"
     ]
    }
   ],
   "source": [
    "from sklearn.naive_bayes import MultinomialNB\n",
    "trained_clf_multinomial_nb = MultinomialNB()\n",
    "trained_clf_multinomial_nb.fit(X_train, y_train)\n",
    "accuracy = get_accuracy(trained_clf_multinomial_nb, X_test, y_test)\n",
    "print(f\"Test dataset accuracy with MultinomialNB: {accuracy:.2f}\")"
   ]
  },
  {
   "cell_type": "markdown",
   "id": "illegal-vermont",
   "metadata": {},
   "source": [
    "## LinearSVC is the best model, lets plot confusion matrix with the results"
   ]
  },
  {
   "cell_type": "code",
   "execution_count": 37,
   "id": "organized-peter",
   "metadata": {},
   "outputs": [
    {
     "name": "stderr",
     "output_type": "stream",
     "text": [
      "c:\\users\\its\\appdata\\local\\programs\\python\\python39\\lib\\site-packages\\sklearn\\utils\\deprecation.py:87: FutureWarning: Function plot_confusion_matrix is deprecated; Function `plot_confusion_matrix` is deprecated in 1.0 and will be removed in 1.2. Use one of the class methods: ConfusionMatrixDisplay.from_predictions or ConfusionMatrixDisplay.from_estimator.\n",
      "  warnings.warn(msg, category=FutureWarning)\n"
     ]
    },
    {
     "data": {
      "text/plain": [
       "<sklearn.metrics._plot.confusion_matrix.ConfusionMatrixDisplay at 0x197661fc8e0>"
      ]
     },
     "execution_count": 37,
     "metadata": {},
     "output_type": "execute_result"
    },
    {
     "data": {
      "image/png": "[encoded data removed]",
      "text/plain": [
       "<Figure size 1080x1080 with 2 Axes>"
      ]
     },
     "metadata": {
      "needs_background": "light"
     },
     "output_type": "display_data"
    }
   ],
   "source": [
    "from sklearn.metrics import plot_confusion_matrix\n",
    "fig, ax = plt.subplots(figsize=(15, 15))\n",
    "plot_confusion_matrix(trained_clf_linearSVC, X_test,y_test, ax=ax)"
   ]
  },
  {
   "cell_type": "markdown",
   "id": "spoken-framing",
   "metadata": {},
   "source": [
    "### Classification report"
   ]
  },
  {
   "cell_type": "code",
   "execution_count": 38,
   "id": "lesser-corrections",
   "metadata": {},
   "outputs": [
    {
     "name": "stdout",
     "output_type": "stream",
     "text": [
      "Classification report : \n",
      "               precision    recall  f1-score   support\n",
      "\n",
      "          AE       0.44      0.43      0.44      5428\n",
      "          BH       0.38      0.33      0.35      5260\n",
      "          DZ       0.62      0.54      0.57      3254\n",
      "          EG       0.70      0.86      0.77     11462\n",
      "          IQ       0.63      0.57      0.60      3046\n",
      "          JO       0.42      0.34      0.37      5661\n",
      "          KW       0.49      0.57      0.52      8355\n",
      "          LB       0.61      0.68      0.64      5523\n",
      "          LY       0.66      0.70      0.68      7356\n",
      "          MA       0.72      0.61      0.66      2279\n",
      "          OM       0.42      0.36      0.39      3829\n",
      "          PL       0.48      0.54      0.51      8611\n",
      "          QA       0.47      0.48      0.48      6204\n",
      "          SA       0.41      0.43      0.42      5474\n",
      "          SD       0.70      0.57      0.63      2849\n",
      "          SY       0.45      0.31      0.36      3251\n",
      "          TN       0.66      0.45      0.53      1810\n",
      "          YE       0.41      0.22      0.28      1988\n",
      "\n",
      "    accuracy                           0.54     91640\n",
      "   macro avg       0.54      0.50      0.51     91640\n",
      "weighted avg       0.53      0.54      0.53     91640\n",
      "\n"
     ]
    }
   ],
   "source": [
    "matrix = classification_report(y_test,trained_clf_linearSVC.predict(X_test))\n",
    "print('Classification report : \\n',matrix)"
   ]
  },
  {
   "cell_type": "markdown",
   "id": "social-europe",
   "metadata": {},
   "source": [
    "## Test LinearSVC model "
   ]
  },
  {
   "cell_type": "code",
   "execution_count": 39,
   "id": "quiet-documentation",
   "metadata": {},
   "outputs": [],
   "source": [
    "t = victorizer.transform(['ازي حالك عامل ايه'])\n",
    "t = transformer.transform(t)"
   ]
  },
  {
   "cell_type": "code",
   "execution_count": 40,
   "id": "sonic-general",
   "metadata": {},
   "outputs": [
    {
     "data": {
      "text/plain": [
       "array(['EG'], dtype=object)"
      ]
     },
     "execution_count": 40,
     "metadata": {},
     "output_type": "execute_result"
    }
   ],
   "source": [
    "trained_clf_linearSVC.predict(t)"
   ]
  },
  {
   "cell_type": "markdown",
   "id": "neural-cemetery",
   "metadata": {},
   "source": [
    "## Save trained model, victorizer, and transformer to use it in deployment"
   ]
  },
  {
   "cell_type": "code",
   "execution_count": 14,
   "id": "structured-cincinnati",
   "metadata": {},
   "outputs": [],
   "source": [
    "pickle.dump(victorizer, open('./Machine_learning_pickles/victorizer.sav', 'wb'))\n",
    "pickle.dump(transformer, open('./Machine_learning_pickles/transformer.sav', 'wb'))\n",
    "pickle.dump(trained_clf_linearSVC, open('./Machine_learning_pickles/linearSVC.sav', 'wb'))"
   ]
  },
  {
   "cell_type": "code",
   "execution_count": null,
   "id": "dependent-wallace",
   "metadata": {},
   "outputs": [],
   "source": []
  },
  {
   "cell_type": "code",
   "execution_count": null,
   "id": "separate-anatomy",
   "metadata": {},
   "outputs": [],
   "source": []
  },
  {
   "cell_type": "code",
   "execution_count": null,
   "id": "angry-minimum",
   "metadata": {},
   "outputs": [],
   "source": []
  },
  {
   "cell_type": "markdown",
   "id": "aggressive-privacy",
   "metadata": {},
   "source": [
    "# Deep learning"
   ]
  },
  {
   "cell_type": "code",
   "execution_count": 29,
   "id": "5872d598",
   "metadata": {
    "execution": {
     "iopub.execute_input": "2022-03-13T03:33:43.802409Z",
     "iopub.status.busy": "2022-03-13T03:33:43.800852Z",
     "iopub.status.idle": "2022-03-13T03:33:49.389490Z",
     "shell.execute_reply": "2022-03-13T03:33:49.388899Z",
     "shell.execute_reply.started": "2022-03-12T17:39:31.163668Z"
    },
    "id": "specialized-clark",
    "papermill": {
     "duration": 5.613473,
     "end_time": "2022-03-13T03:33:49.389650",
     "exception": false,
     "start_time": "2022-03-13T03:33:43.776177",
     "status": "completed"
    },
    "tags": []
   },
   "outputs": [],
   "source": [
    "from sklearn.preprocessing import LabelEncoder\n",
    "from sklearn.metrics import accuracy_score\n",
    "from sklearn.manifold import TSNE\n",
    "import os\n",
    "from collections import Counter\n",
    "import logging\n",
    "import time\n",
    "import itertools\n",
    "\n",
    "# Keras\n",
    "from keras.preprocessing.text import Tokenizer\n",
    "from keras.preprocessing.sequence import pad_sequences\n",
    "from keras.models import Sequential, load_model\n",
    "from keras.layers import Activation, Dense, Dropout, Embedding, Flatten, Conv1D, MaxPooling1D, LSTM\n",
    "from keras import utils\n",
    "from keras.callbacks import EarlyStopping\n",
    " \n",
    "\n",
    "# Word2vec\n",
    "import gensim"
   ]
  },
  {
   "cell_type": "markdown",
   "id": "directed-force",
   "metadata": {},
   "source": [
    "### parameters"
   ]
  },
  {
   "cell_type": "code",
   "execution_count": 3,
   "id": "56627cad",
   "metadata": {
    "execution": {
     "iopub.execute_input": "2022-03-13T03:33:49.438578Z",
     "iopub.status.busy": "2022-03-13T03:33:49.437746Z",
     "iopub.status.idle": "2022-03-13T03:33:49.439487Z",
     "shell.execute_reply": "2022-03-13T03:33:49.439943Z",
     "shell.execute_reply.started": "2022-03-12T17:39:31.185453Z"
    },
    "id": "editorial-yellow",
    "papermill": {
     "duration": 0.027899,
     "end_time": "2022-03-13T03:33:49.440068",
     "exception": false,
     "start_time": "2022-03-13T03:33:49.412169",
     "status": "completed"
    },
    "tags": []
   },
   "outputs": [],
   "source": [
    "# WORD2VEC \n",
    "W2V_SIZE = 300\n",
    "W2V_MIN_COUNT = 10\n",
    "\n",
    "# KERAS\n",
    "SEQUENCE_LENGTH = 300\n",
    "EPOCHS = 50\n",
    "BATCH_SIZE = 1024\n"
   ]
  },
  {
   "cell_type": "markdown",
   "id": "eight-acquisition",
   "metadata": {},
   "source": [
    "## Read Data"
   ]
  },
  {
   "cell_type": "code",
   "execution_count": 7,
   "id": "greater-ireland",
   "metadata": {
    "execution": {
     "iopub.execute_input": "2022-03-13T03:33:49.483548Z",
     "iopub.status.busy": "2022-03-13T03:33:49.483054Z",
     "iopub.status.idle": "2022-03-13T03:33:51.672067Z",
     "shell.execute_reply": "2022-03-13T03:33:51.672553Z",
     "shell.execute_reply.started": "2022-03-12T17:39:31.199857Z"
    },
    "id": "pending-detection",
    "outputId": "721d9628-5e9f-4ca6-fdb6-71612c6236d4",
    "papermill": {
     "duration": 2.213159,
     "end_time": "2022-03-13T03:33:51.672713",
     "exception": false,
     "start_time": "2022-03-13T03:33:49.459554",
     "status": "completed"
    },
    "tags": []
   },
   "outputs": [
    {
     "data": {
      "text/html": [
       "<div>\n",
       "<style scoped>\n",
       "    .dataframe tbody tr th:only-of-type {\n",
       "        vertical-align: middle;\n",
       "    }\n",
       "\n",
       "    .dataframe tbody tr th {\n",
       "        vertical-align: top;\n",
       "    }\n",
       "\n",
       "    .dataframe thead th {\n",
       "        text-align: right;\n",
       "    }\n",
       "</style>\n",
       "<table border=\"1\" class=\"dataframe\">\n",
       "  <thead>\n",
       "    <tr style=\"text-align: right;\">\n",
       "      <th></th>\n",
       "      <th>id</th>\n",
       "      <th>text</th>\n",
       "      <th>dialect</th>\n",
       "    </tr>\n",
       "  </thead>\n",
       "  <tbody>\n",
       "    <tr>\n",
       "      <th>0</th>\n",
       "      <td>1175358310087892992</td>\n",
       "      <td>لكن بالنهايه ينتفض يغير</td>\n",
       "      <td>IQ</td>\n",
       "    </tr>\n",
       "    <tr>\n",
       "      <th>1</th>\n",
       "      <td>1175416117793349632</td>\n",
       "      <td>يعني هذا محسوب علي البشر حيونه ووحشيه وتطلبون...</td>\n",
       "      <td>IQ</td>\n",
       "    </tr>\n",
       "    <tr>\n",
       "      <th>2</th>\n",
       "      <td>1175450108898565888</td>\n",
       "      <td>مبين من كلامه خليجي</td>\n",
       "      <td>IQ</td>\n",
       "    </tr>\n",
       "    <tr>\n",
       "      <th>3</th>\n",
       "      <td>1175471073770573824</td>\n",
       "      <td>يسلملي مرورك وروحك الحلوه</td>\n",
       "      <td>IQ</td>\n",
       "    </tr>\n",
       "    <tr>\n",
       "      <th>4</th>\n",
       "      <td>1175496913145217024</td>\n",
       "      <td>وين هل الغيبه اخ محمد</td>\n",
       "      <td>IQ</td>\n",
       "    </tr>\n",
       "    <tr>\n",
       "      <th>...</th>\n",
       "      <td>...</td>\n",
       "      <td>...</td>\n",
       "      <td>...</td>\n",
       "    </tr>\n",
       "    <tr>\n",
       "      <th>458192</th>\n",
       "      <td>1019484980282580992</td>\n",
       "      <td>مبسوطين منك اللي باسطانا</td>\n",
       "      <td>BH</td>\n",
       "    </tr>\n",
       "    <tr>\n",
       "      <th>458193</th>\n",
       "      <td>1021083283709407232</td>\n",
       "      <td>والله ماينده ابش يختي</td>\n",
       "      <td>BH</td>\n",
       "    </tr>\n",
       "    <tr>\n",
       "      <th>458194</th>\n",
       "      <td>1017477537889431552</td>\n",
       "      <td>شو عملنا لك حنا تهربي مننا احنا مساكين ليش بت...</td>\n",
       "      <td>BH</td>\n",
       "    </tr>\n",
       "    <tr>\n",
       "      <th>458195</th>\n",
       "      <td>1022430374696239232</td>\n",
       "      <td>الله يبارك فيها وبالعافيه</td>\n",
       "      <td>BH</td>\n",
       "    </tr>\n",
       "    <tr>\n",
       "      <th>458196</th>\n",
       "      <td>1022409931029458944</td>\n",
       "      <td>السحله ضيفي ي بتطلع لك سحليه</td>\n",
       "      <td>BH</td>\n",
       "    </tr>\n",
       "  </tbody>\n",
       "</table>\n",
       "<p>458197 rows × 3 columns</p>\n",
       "</div>"
      ],
      "text/plain": [
       "                         id  \\\n",
       "0       1175358310087892992   \n",
       "1       1175416117793349632   \n",
       "2       1175450108898565888   \n",
       "3       1175471073770573824   \n",
       "4       1175496913145217024   \n",
       "...                     ...   \n",
       "458192  1019484980282580992   \n",
       "458193  1021083283709407232   \n",
       "458194  1017477537889431552   \n",
       "458195  1022430374696239232   \n",
       "458196  1022409931029458944   \n",
       "\n",
       "                                                     text dialect  \n",
       "0                                لكن بالنهايه ينتفض يغير       IQ  \n",
       "1        يعني هذا محسوب علي البشر حيونه ووحشيه وتطلبون...      IQ  \n",
       "2                                     مبين من كلامه خليجي      IQ  \n",
       "3                              يسلملي مرورك وروحك الحلوه       IQ  \n",
       "4                                  وين هل الغيبه اخ محمد       IQ  \n",
       "...                                                   ...     ...  \n",
       "458192                          مبسوطين منك اللي باسطانا       BH  \n",
       "458193                              والله ماينده ابش يختي      BH  \n",
       "458194   شو عملنا لك حنا تهربي مننا احنا مساكين ليش بت...      BH  \n",
       "458195                         الله يبارك فيها وبالعافيه       BH  \n",
       "458196                      السحله ضيفي ي بتطلع لك سحليه       BH  \n",
       "\n",
       "[458197 rows x 3 columns]"
      ]
     },
     "execution_count": 7,
     "metadata": {},
     "output_type": "execute_result"
    }
   ],
   "source": [
    "df = pd.read_csv('./data/Preprocessed_data.csv')\n",
    "df = df.drop('Unnamed: 0',axis=1).dropna()\n",
    "df"
   ]
  },
  {
   "cell_type": "markdown",
   "id": "biblical-jacksonville",
   "metadata": {},
   "source": [
    "## Split data into train and test"
   ]
  },
  {
   "cell_type": "code",
   "execution_count": 8,
   "id": "c270f6fa",
   "metadata": {
    "execution": {
     "iopub.execute_input": "2022-03-13T03:33:51.719542Z",
     "iopub.status.busy": "2022-03-13T03:33:51.718888Z",
     "iopub.status.idle": "2022-03-13T03:33:51.804570Z",
     "shell.execute_reply": "2022-03-13T03:33:51.804996Z",
     "shell.execute_reply.started": "2022-03-12T17:39:32.849765Z"
    },
    "id": "planned-neighbor",
    "outputId": "1a1e41e5-a8ef-4aae-b148-1bb62d982c98",
    "papermill": {
     "duration": 0.111338,
     "end_time": "2022-03-13T03:33:51.805150",
     "exception": false,
     "start_time": "2022-03-13T03:33:51.693812",
     "status": "completed"
    },
    "tags": []
   },
   "outputs": [
    {
     "name": "stdout",
     "output_type": "stream",
     "text": [
      "TRAIN size: 366557\n",
      "TEST size: 91640\n"
     ]
    }
   ],
   "source": [
    "df_train, df_test = train_test_split(df, test_size=.2, random_state=42)\n",
    "print(\"TRAIN size:\", len(df_train))\n",
    "print(\"TEST size:\", len(df_test))"
   ]
  },
  {
   "cell_type": "markdown",
   "id": "charitable-scene",
   "metadata": {},
   "source": [
    "### List of splitted words"
   ]
  },
  {
   "cell_type": "code",
   "execution_count": 9,
   "id": "047846c0",
   "metadata": {
    "execution": {
     "iopub.execute_input": "2022-03-13T03:33:51.857567Z",
     "iopub.status.busy": "2022-03-13T03:33:51.852116Z",
     "iopub.status.idle": "2022-03-13T03:33:53.433577Z",
     "shell.execute_reply": "2022-03-13T03:33:53.434032Z",
     "shell.execute_reply.started": "2022-03-12T17:39:32.966523Z"
    },
    "id": "tight-review",
    "outputId": "1856b7b4-38c7-4a4e-f1fb-5fc617fe20c8",
    "papermill": {
     "duration": 1.607726,
     "end_time": "2022-03-13T03:33:53.434203",
     "exception": false,
     "start_time": "2022-03-13T03:33:51.826477",
     "status": "completed"
    },
    "tags": []
   },
   "outputs": [],
   "source": [
    "documents = [t.split() for t in df_train.text] "
   ]
  },
  {
   "cell_type": "markdown",
   "id": "impressive-orange",
   "metadata": {},
   "source": [
    "### Find all words accure more than min count"
   ]
  },
  {
   "cell_type": "code",
   "execution_count": 10,
   "id": "c556a7ea",
   "metadata": {
    "execution": {
     "iopub.execute_input": "2022-03-13T03:33:53.483199Z",
     "iopub.status.busy": "2022-03-13T03:33:53.480311Z",
     "iopub.status.idle": "2022-03-13T03:33:53.485497Z",
     "shell.execute_reply": "2022-03-13T03:33:53.485086Z",
     "shell.execute_reply.started": "2022-03-12T17:39:35.195427Z"
    },
    "id": "entitled-ghost",
    "papermill": {
     "duration": 0.028732,
     "end_time": "2022-03-13T03:33:53.485604",
     "exception": false,
     "start_time": "2022-03-13T03:33:53.456872",
     "status": "completed"
    },
    "tags": []
   },
   "outputs": [],
   "source": [
    "w2v_model = gensim.models.word2vec.Word2Vec(size=W2V_SIZE, \n",
    "                                            window=7, \n",
    "                                            min_count= 10, \n",
    "                                            workers=4)"
   ]
  },
  {
   "cell_type": "code",
   "execution_count": 11,
   "id": "3e9b5289",
   "metadata": {
    "execution": {
     "iopub.execute_input": "2022-03-13T03:33:53.562563Z",
     "iopub.status.busy": "2022-03-13T03:33:53.537542Z",
     "iopub.status.idle": "2022-03-13T03:33:56.284619Z",
     "shell.execute_reply": "2022-03-13T03:33:56.283676Z",
     "shell.execute_reply.started": "2022-03-12T17:39:35.210777Z"
    },
    "id": "personal-helping",
    "outputId": "8a0c697e-7f40-4eec-9c99-082bf9b68e0c",
    "papermill": {
     "duration": 2.776782,
     "end_time": "2022-03-13T03:33:56.284759",
     "exception": false,
     "start_time": "2022-03-13T03:33:53.507977",
     "status": "completed"
    },
    "tags": []
   },
   "outputs": [],
   "source": [
    "w2v_model.build_vocab(documents)"
   ]
  },
  {
   "cell_type": "code",
   "execution_count": 12,
   "id": "11a9cec1",
   "metadata": {
    "execution": {
     "iopub.execute_input": "2022-03-13T03:33:56.332865Z",
     "iopub.status.busy": "2022-03-13T03:33:56.331640Z",
     "iopub.status.idle": "2022-03-13T03:39:02.157712Z",
     "shell.execute_reply": "2022-03-13T03:39:02.158204Z",
     "shell.execute_reply.started": "2022-03-12T17:39:38.568976Z"
    },
    "id": "provincial-opposition",
    "outputId": "56cad7b5-6055-42ce-d4db-661a9b423f36",
    "papermill": {
     "duration": 305.852694,
     "end_time": "2022-03-13T03:39:02.158360",
     "exception": false,
     "start_time": "2022-03-13T03:33:56.305666",
     "status": "completed"
    },
    "tags": []
   },
   "outputs": [
    {
     "data": {
      "text/plain": [
       "(123040403, 155796704)"
      ]
     },
     "execution_count": 12,
     "metadata": {},
     "output_type": "execute_result"
    }
   ],
   "source": [
    "w2v_model.train(documents, total_examples=len(documents), epochs=32)"
   ]
  },
  {
   "cell_type": "markdown",
   "id": "later-safety",
   "metadata": {},
   "source": [
    "### Define tekonizer for our text data"
   ]
  },
  {
   "cell_type": "code",
   "execution_count": 23,
   "id": "f1822e0f",
   "metadata": {
    "execution": {
     "iopub.execute_input": "2022-03-13T03:39:02.269520Z",
     "iopub.status.busy": "2022-03-13T03:39:02.233629Z",
     "iopub.status.idle": "2022-03-13T03:39:12.428716Z",
     "shell.execute_reply": "2022-03-13T03:39:12.429319Z",
     "shell.execute_reply.started": "2022-03-12T17:45:07.443482Z"
    },
    "id": "dressed-naples",
    "outputId": "e23e66d0-3c34-412a-d429-45bbf9e91f5d",
    "papermill": {
     "duration": 10.25004,
     "end_time": "2022-03-13T03:39:12.429524",
     "exception": false,
     "start_time": "2022-03-13T03:39:02.179484",
     "status": "completed"
    },
    "tags": []
   },
   "outputs": [
    {
     "name": "stdout",
     "output_type": "stream",
     "text": [
      "Total words 371814\n"
     ]
    }
   ],
   "source": [
    "tokenizer = Tokenizer()\n",
    "tokenizer.fit_on_texts(df_train.text)\n",
    "\n",
    "vocab_size = len(tokenizer.word_index) + 1\n",
    "print(\"Total words\", vocab_size)"
   ]
  },
  {
   "cell_type": "markdown",
   "id": "portable-stadium",
   "metadata": {},
   "source": [
    "### Pad featuers matrix into len(feat)X300"
   ]
  },
  {
   "cell_type": "code",
   "execution_count": 24,
   "id": "f0b76420",
   "metadata": {
    "execution": {
     "iopub.execute_input": "2022-03-13T03:39:12.511445Z",
     "iopub.status.busy": "2022-03-13T03:39:12.496107Z",
     "iopub.status.idle": "2022-03-13T03:39:25.012966Z",
     "shell.execute_reply": "2022-03-13T03:39:25.012468Z",
     "shell.execute_reply.started": "2022-03-12T17:45:17.860925Z"
    },
    "id": "weird-madonna",
    "outputId": "e7abcac2-08ba-4c5c-b17f-117aae274638",
    "papermill": {
     "duration": 12.5609,
     "end_time": "2022-03-13T03:39:25.013104",
     "exception": false,
     "start_time": "2022-03-13T03:39:12.452204",
     "status": "completed"
    },
    "tags": []
   },
   "outputs": [],
   "source": [
    "x_train = pad_sequences(tokenizer.texts_to_sequences(df_train.text) # replace each word by its token number\n",
    "                        , maxlen=SEQUENCE_LENGTH)\n",
    "x_test = pad_sequences(tokenizer.texts_to_sequences(df_test.text) # replace each word by its token number\n",
    "                       , maxlen=SEQUENCE_LENGTH)"
   ]
  },
  {
   "cell_type": "code",
   "execution_count": 58,
   "id": "dutch-juice",
   "metadata": {},
   "outputs": [
    {
     "data": {
      "text/plain": [
       "(91640, 300)"
      ]
     },
     "execution_count": 58,
     "metadata": {},
     "output_type": "execute_result"
    }
   ],
   "source": [
    "x_test.shape"
   ]
  },
  {
   "cell_type": "markdown",
   "id": "modular-overall",
   "metadata": {},
   "source": [
    "### Encode dialect labels into numbers"
   ]
  },
  {
   "cell_type": "code",
   "execution_count": 25,
   "id": "06c29557",
   "metadata": {
    "execution": {
     "iopub.execute_input": "2022-03-13T03:39:25.098466Z",
     "iopub.status.busy": "2022-03-13T03:39:25.097721Z",
     "iopub.status.idle": "2022-03-13T03:39:25.584533Z",
     "shell.execute_reply": "2022-03-13T03:39:25.585029Z",
     "shell.execute_reply.started": "2022-03-12T17:45:30.320109Z"
    },
    "id": "working-reunion",
    "outputId": "5f75bf79-37a7-4788-b166-553eacf3e1f8",
    "papermill": {
     "duration": 0.550507,
     "end_time": "2022-03-13T03:39:25.585178",
     "exception": false,
     "start_time": "2022-03-13T03:39:25.034671",
     "status": "completed"
    },
    "tags": []
   },
   "outputs": [
    {
     "name": "stdout",
     "output_type": "stream",
     "text": [
      "y_train (366557, 1)\n",
      "y_test (91640, 1)\n"
     ]
    }
   ],
   "source": [
    "encoder = LabelEncoder()\n",
    "encoder.fit(df_train.dialect.tolist())\n",
    "\n",
    "y_train = encoder.transform(df_train.dialect.tolist())\n",
    "y_test = encoder.transform(df_test.dialect.tolist())\n",
    "\n",
    "y_train = y_train.reshape(-1,1)\n",
    "y_test = y_test.reshape(-1,1)\n",
    "\n",
    "print(\"y_train\",y_train.shape)\n",
    "print(\"y_test\",y_test.shape)"
   ]
  },
  {
   "cell_type": "code",
   "execution_count": 26,
   "id": "c0a04d39",
   "metadata": {
    "execution": {
     "iopub.execute_input": "2022-03-13T03:39:25.634466Z",
     "iopub.status.busy": "2022-03-13T03:39:25.633767Z",
     "iopub.status.idle": "2022-03-13T03:39:25.637411Z",
     "shell.execute_reply": "2022-03-13T03:39:25.636956Z",
     "shell.execute_reply.started": "2022-03-12T17:45:30.880397Z"
    },
    "id": "general-turtle",
    "outputId": "2ed15ff7-b7f5-466f-d414-774cc247fbe4",
    "papermill": {
     "duration": 0.030068,
     "end_time": "2022-03-13T03:39:25.637519",
     "exception": false,
     "start_time": "2022-03-13T03:39:25.607451",
     "status": "completed"
    },
    "tags": []
   },
   "outputs": [
    {
     "name": "stdout",
     "output_type": "stream",
     "text": [
      "x_train (366557, 300)\n",
      "y_train (366557, 1)\n",
      "\n",
      "x_test (91640, 300)\n",
      "y_test (91640, 1)\n"
     ]
    }
   ],
   "source": [
    "print(\"x_train\", x_train.shape)\n",
    "print(\"y_train\", y_train.shape)\n",
    "print()\n",
    "print(\"x_test\", x_test.shape)\n",
    "print(\"y_test\", y_test.shape)"
   ]
  },
  {
   "cell_type": "code",
   "execution_count": 13,
   "id": "e16a6370",
   "metadata": {
    "execution": {
     "iopub.execute_input": "2022-03-13T03:39:25.684100Z",
     "iopub.status.busy": "2022-03-13T03:39:25.683292Z",
     "iopub.status.idle": "2022-03-13T03:39:26.379236Z",
     "shell.execute_reply": "2022-03-13T03:39:26.379872Z",
     "shell.execute_reply.started": "2022-03-12T17:45:30.888498Z"
    },
    "id": "thorough-radar",
    "outputId": "54eec9b8-b142-42ca-cbf3-5ceb6f75c0a3",
    "papermill": {
     "duration": 0.720658,
     "end_time": "2022-03-13T03:39:26.380063",
     "exception": false,
     "start_time": "2022-03-13T03:39:25.659405",
     "status": "completed"
    },
    "tags": []
   },
   "outputs": [
    {
     "name": "stdout",
     "output_type": "stream",
     "text": [
      "(463127, 300)\n"
     ]
    }
   ],
   "source": [
    "embedding_matrix = np.zeros((vocab_size, W2V_SIZE))\n",
    "for word, i in tokenizer.word_index.items():\n",
    "    if word in w2v_model.wv:\n",
    "        embedding_matrix[i] = w2v_model.wv[word]\n",
    "print(embedding_matrix.shape)"
   ]
  },
  {
   "cell_type": "code",
   "execution_count": 14,
   "id": "d19cfab3",
   "metadata": {
    "execution": {
     "iopub.execute_input": "2022-03-13T03:39:26.432157Z",
     "iopub.status.busy": "2022-03-13T03:39:26.431482Z",
     "iopub.status.idle": "2022-03-13T03:39:26.926516Z",
     "shell.execute_reply": "2022-03-13T03:39:26.925924Z",
     "shell.execute_reply.started": "2022-03-12T17:45:31.594041Z"
    },
    "id": "insured-trail",
    "outputId": "29e82ae9-7e0d-411a-dcdd-6ac03ccc0d61",
    "papermill": {
     "duration": 0.522087,
     "end_time": "2022-03-13T03:39:26.926650",
     "exception": false,
     "start_time": "2022-03-13T03:39:26.404563",
     "status": "completed"
    },
    "tags": []
   },
   "outputs": [
    {
     "data": {
      "text/plain": [
       "id         458023\n",
       "text       457419\n",
       "dialect        18\n",
       "dtype: int64"
      ]
     },
     "execution_count": 14,
     "metadata": {},
     "output_type": "execute_result"
    }
   ],
   "source": [
    "df.nunique()"
   ]
  },
  {
   "cell_type": "markdown",
   "id": "interior-preserve",
   "metadata": {},
   "source": [
    "## Create Deep model using LSTM"
   ]
  },
  {
   "cell_type": "code",
   "execution_count": 16,
   "id": "50ecbca1",
   "metadata": {
    "execution": {
     "iopub.execute_input": "2022-03-13T03:39:27.218412Z",
     "iopub.status.busy": "2022-03-13T03:39:27.217141Z",
     "iopub.status.idle": "2022-03-13T03:39:30.435262Z",
     "shell.execute_reply": "2022-03-13T03:39:30.435963Z",
     "shell.execute_reply.started": "2022-03-12T17:45:32.113947Z"
    },
    "id": "fuzzy-convention",
    "outputId": "03e49e6a-ae78-4dd0-eeee-36b94cc96279",
    "papermill": {
     "duration": 3.41143,
     "end_time": "2022-03-13T03:39:30.436175",
     "exception": false,
     "start_time": "2022-03-13T03:39:27.024745",
     "status": "completed"
    },
    "tags": []
   },
   "outputs": [
    {
     "name": "stderr",
     "output_type": "stream",
     "text": [
      "2022-03-13 03:39:27.105507: I tensorflow/stream_executor/cuda/cuda_gpu_executor.cc:937] successful NUMA node read from SysFS had negative value (-1), but there must be at least one NUMA node, so returning NUMA node zero\n",
      "2022-03-13 03:39:27.211267: I tensorflow/stream_executor/cuda/cuda_gpu_executor.cc:937] successful NUMA node read from SysFS had negative value (-1), but there must be at least one NUMA node, so returning NUMA node zero\n",
      "2022-03-13 03:39:27.212458: I tensorflow/stream_executor/cuda/cuda_gpu_executor.cc:937] successful NUMA node read from SysFS had negative value (-1), but there must be at least one NUMA node, so returning NUMA node zero\n",
      "2022-03-13 03:39:27.219028: I tensorflow/core/platform/cpu_feature_guard.cc:142] This TensorFlow binary is optimized with oneAPI Deep Neural Network Library (oneDNN) to use the following CPU instructions in performance-critical operations:  AVX2 AVX512F FMA\n",
      "To enable them in other operations, rebuild TensorFlow with the appropriate compiler flags.\n",
      "2022-03-13 03:39:27.219943: I tensorflow/stream_executor/cuda/cuda_gpu_executor.cc:937] successful NUMA node read from SysFS had negative value (-1), but there must be at least one NUMA node, so returning NUMA node zero\n",
      "2022-03-13 03:39:27.220971: I tensorflow/stream_executor/cuda/cuda_gpu_executor.cc:937] successful NUMA node read from SysFS had negative value (-1), but there must be at least one NUMA node, so returning NUMA node zero\n",
      "2022-03-13 03:39:27.222041: I tensorflow/stream_executor/cuda/cuda_gpu_executor.cc:937] successful NUMA node read from SysFS had negative value (-1), but there must be at least one NUMA node, so returning NUMA node zero\n",
      "2022-03-13 03:39:28.855072: I tensorflow/stream_executor/cuda/cuda_gpu_executor.cc:937] successful NUMA node read from SysFS had negative value (-1), but there must be at least one NUMA node, so returning NUMA node zero\n",
      "2022-03-13 03:39:28.856012: I tensorflow/stream_executor/cuda/cuda_gpu_executor.cc:937] successful NUMA node read from SysFS had negative value (-1), but there must be at least one NUMA node, so returning NUMA node zero\n",
      "2022-03-13 03:39:28.856722: I tensorflow/stream_executor/cuda/cuda_gpu_executor.cc:937] successful NUMA node read from SysFS had negative value (-1), but there must be at least one NUMA node, so returning NUMA node zero\n",
      "2022-03-13 03:39:28.857383: I tensorflow/core/common_runtime/gpu/gpu_device.cc:1510] Created device /job:localhost/replica:0/task:0/device:GPU:0 with 15403 MB memory:  -> device: 0, name: Tesla P100-PCIE-16GB, pci bus id: 0000:00:04.0, compute capability: 6.0\n"
     ]
    },
    {
     "name": "stdout",
     "output_type": "stream",
     "text": [
      "Model: \"sequential\"\n",
      "_________________________________________________________________\n",
      "Layer (type)                 Output Shape              Param #   \n",
      "=================================================================\n",
      "embedding (Embedding)        (None, 300, 300)          138938100 \n",
      "_________________________________________________________________\n",
      "dropout (Dropout)            (None, 300, 300)          0         \n",
      "_________________________________________________________________\n",
      "lstm (LSTM)                  (None, 300)               721200    \n",
      "_________________________________________________________________\n",
      "dropout_1 (Dropout)          (None, 300)               0         \n",
      "_________________________________________________________________\n",
      "dense (Dense)                (None, 18)                5418      \n",
      "=================================================================\n",
      "Total params: 139,664,718\n",
      "Trainable params: 726,618\n",
      "Non-trainable params: 138,938,100\n",
      "_________________________________________________________________\n"
     ]
    }
   ],
   "source": [
    "model = Sequential()\n",
    "model.add(Embedding(vocab_size, W2V_SIZE, weights=[embedding_matrix], input_length=SEQUENCE_LENGTH, trainable=False))\n",
    "model.add(Dropout(.2))\n",
    "model.add(LSTM(300))\n",
    "model.add(Dropout(.3))\n",
    "model.add(Dense(18, activation='softmax'))\n",
    "\n",
    "model.summary()"
   ]
  },
  {
   "cell_type": "markdown",
   "id": "artistic-relay",
   "metadata": {},
   "source": [
    "## Compile the model using adam optimizer "
   ]
  },
  {
   "cell_type": "code",
   "execution_count": 17,
   "id": "60da41ac",
   "metadata": {
    "execution": {
     "iopub.execute_input": "2022-03-13T03:39:30.493938Z",
     "iopub.status.busy": "2022-03-13T03:39:30.493387Z",
     "iopub.status.idle": "2022-03-13T03:39:30.499879Z",
     "shell.execute_reply": "2022-03-13T03:39:30.499464Z",
     "shell.execute_reply.started": "2022-03-12T17:45:33.293451Z"
    },
    "id": "eleven-drill",
    "papermill": {
     "duration": 0.038941,
     "end_time": "2022-03-13T03:39:30.499988",
     "exception": false,
     "start_time": "2022-03-13T03:39:30.461047",
     "status": "completed"
    },
    "tags": []
   },
   "outputs": [],
   "source": [
    "model.compile(loss='sparse_categorical_crossentropy',\n",
    "              optimizer=\"adam\",\n",
    "              metrics=['accuracy'])"
   ]
  },
  {
   "cell_type": "markdown",
   "id": "permanent-jackson",
   "metadata": {},
   "source": [
    "## Train the model"
   ]
  },
  {
   "cell_type": "code",
   "execution_count": 19,
   "id": "1c6d14b4",
   "metadata": {
    "execution": {
     "iopub.execute_input": "2022-03-13T03:39:30.605563Z",
     "iopub.status.busy": "2022-03-13T03:39:30.605073Z",
     "iopub.status.idle": "2022-03-13T04:49:48.137345Z",
     "shell.execute_reply": "2022-03-13T04:49:48.136543Z",
     "shell.execute_reply.started": "2022-03-12T17:45:33.31458Z"
    },
    "id": "bottom-alberta",
    "outputId": "f54f46a2-4159-47dc-e7fa-9c3519c975a1",
    "papermill": {
     "duration": 4217.560232,
     "end_time": "2022-03-13T04:49:48.137484",
     "exception": false,
     "start_time": "2022-03-13T03:39:30.577252",
     "status": "completed"
    },
    "tags": []
   },
   "outputs": [
    {
     "name": "stderr",
     "output_type": "stream",
     "text": [
      "2022-03-13 03:39:30.945330: I tensorflow/compiler/mlir/mlir_graph_optimization_pass.cc:185] None of the MLIR Optimization Passes are enabled (registered 2)\n"
     ]
    },
    {
     "name": "stdout",
     "output_type": "stream",
     "text": [
      "Epoch 1/50\n"
     ]
    },
    {
     "name": "stderr",
     "output_type": "stream",
     "text": [
      "2022-03-13 03:39:33.000881: I tensorflow/stream_executor/cuda/cuda_dnn.cc:369] Loaded cuDNN version 8005\n"
     ]
    },
    {
     "name": "stdout",
     "output_type": "stream",
     "text": [
      "323/323 [==============================] - 88s 263ms/step - loss: 1.8721 - accuracy: 0.4070 - val_loss: 1.6753 - val_accuracy: 0.4667\n",
      "Epoch 2/50\n",
      "323/323 [==============================] - 84s 261ms/step - loss: 1.6927 - accuracy: 0.4625 - val_loss: 1.6265 - val_accuracy: 0.4830\n",
      "Epoch 3/50\n",
      "323/323 [==============================] - 84s 261ms/step - loss: 1.6422 - accuracy: 0.4780 - val_loss: 1.6062 - val_accuracy: 0.4893\n",
      "Epoch 4/50\n",
      "323/323 [==============================] - 84s 261ms/step - loss: 1.6069 - accuracy: 0.4889 - val_loss: 1.5945 - val_accuracy: 0.4935\n",
      "Epoch 5/50\n",
      "323/323 [==============================] - 84s 261ms/step - loss: 1.5798 - accuracy: 0.4969 - val_loss: 1.5828 - val_accuracy: 0.4957\n",
      "Epoch 6/50\n",
      "323/323 [==============================] - 84s 261ms/step - loss: 1.5562 - accuracy: 0.5048 - val_loss: 1.5780 - val_accuracy: 0.4993\n",
      "Epoch 7/50\n",
      "323/323 [==============================] - 84s 261ms/step - loss: 1.5344 - accuracy: 0.5101 - val_loss: 1.5752 - val_accuracy: 0.4980\n",
      "Epoch 8/50\n",
      "323/323 [==============================] - 84s 261ms/step - loss: 1.5535 - accuracy: 0.5061 - val_loss: 1.5791 - val_accuracy: 0.4983\n",
      "Epoch 9/50\n",
      "323/323 [==============================] - 84s 261ms/step - loss: 1.5189 - accuracy: 0.5154 - val_loss: 1.5718 - val_accuracy: 0.5013\n",
      "Epoch 10/50\n",
      "323/323 [==============================] - 84s 261ms/step - loss: 1.4997 - accuracy: 0.5209 - val_loss: 1.5728 - val_accuracy: 0.5007\n",
      "Epoch 11/50\n",
      "323/323 [==============================] - 84s 261ms/step - loss: 1.4835 - accuracy: 0.5267 - val_loss: 1.5749 - val_accuracy: 0.5015\n",
      "Epoch 12/50\n",
      "323/323 [==============================] - 84s 261ms/step - loss: 1.4705 - accuracy: 0.5300 - val_loss: 1.5767 - val_accuracy: 0.4995\n",
      "Epoch 13/50\n",
      "323/323 [==============================] - 84s 261ms/step - loss: 1.4570 - accuracy: 0.5341 - val_loss: 1.5795 - val_accuracy: 0.4996\n",
      "Epoch 14/50\n",
      "323/323 [==============================] - 84s 261ms/step - loss: 1.4448 - accuracy: 0.5395 - val_loss: 1.5791 - val_accuracy: 0.5007\n",
      "Epoch 15/50\n",
      "323/323 [==============================] - 84s 261ms/step - loss: 1.4045 - accuracy: 0.5519 - val_loss: 1.5788 - val_accuracy: 0.5028\n",
      "Epoch 16/50\n",
      "323/323 [==============================] - 84s 261ms/step - loss: 1.3990 - accuracy: 0.5539 - val_loss: 1.5797 - val_accuracy: 0.5029\n",
      "Epoch 17/50\n",
      "323/323 [==============================] - 84s 261ms/step - loss: 1.3966 - accuracy: 0.5543 - val_loss: 1.5806 - val_accuracy: 0.5031\n",
      "Epoch 18/50\n",
      "323/323 [==============================] - 84s 261ms/step - loss: 1.3921 - accuracy: 0.5551 - val_loss: 1.5810 - val_accuracy: 0.5031\n",
      "Epoch 19/50\n",
      "323/323 [==============================] - 84s 261ms/step - loss: 1.3887 - accuracy: 0.5558 - val_loss: 1.5823 - val_accuracy: 0.5026\n",
      "Epoch 20/50\n",
      "323/323 [==============================] - 84s 261ms/step - loss: 1.3824 - accuracy: 0.5568 - val_loss: 1.5824 - val_accuracy: 0.5029\n",
      "Epoch 21/50\n",
      "323/323 [==============================] - 84s 261ms/step - loss: 1.3826 - accuracy: 0.5580 - val_loss: 1.5826 - val_accuracy: 0.5027\n",
      "Epoch 22/50\n",
      "323/323 [==============================] - 84s 261ms/step - loss: 1.3827 - accuracy: 0.5581 - val_loss: 1.5827 - val_accuracy: 0.5030\n",
      "Epoch 23/50\n",
      "323/323 [==============================] - 84s 261ms/step - loss: 1.3835 - accuracy: 0.5580 - val_loss: 1.5829 - val_accuracy: 0.5030\n",
      "Epoch 24/50\n",
      "323/323 [==============================] - 84s 261ms/step - loss: 1.3823 - accuracy: 0.5582 - val_loss: 1.5833 - val_accuracy: 0.5029\n",
      "Epoch 25/50\n",
      "323/323 [==============================] - 84s 261ms/step - loss: 1.3815 - accuracy: 0.5589 - val_loss: 1.5832 - val_accuracy: 0.5028\n",
      "Epoch 26/50\n",
      "323/323 [==============================] - 84s 261ms/step - loss: 1.3814 - accuracy: 0.5583 - val_loss: 1.5832 - val_accuracy: 0.5027\n",
      "Epoch 27/50\n",
      "323/323 [==============================] - 84s 261ms/step - loss: 1.3807 - accuracy: 0.5581 - val_loss: 1.5832 - val_accuracy: 0.5028\n",
      "Epoch 28/50\n",
      "323/323 [==============================] - 84s 261ms/step - loss: 1.3800 - accuracy: 0.5587 - val_loss: 1.5832 - val_accuracy: 0.5028\n",
      "Epoch 29/50\n",
      "323/323 [==============================] - 84s 261ms/step - loss: 1.3789 - accuracy: 0.5593 - val_loss: 1.5833 - val_accuracy: 0.5028\n",
      "Epoch 30/50\n",
      "323/323 [==============================] - 84s 261ms/step - loss: 1.3805 - accuracy: 0.5580 - val_loss: 1.5833 - val_accuracy: 0.5028\n",
      "Epoch 31/50\n",
      "323/323 [==============================] - 84s 261ms/step - loss: 1.3805 - accuracy: 0.5582 - val_loss: 1.5833 - val_accuracy: 0.5027\n",
      "Epoch 32/50\n",
      "323/323 [==============================] - 84s 261ms/step - loss: 1.3818 - accuracy: 0.5575 - val_loss: 1.5833 - val_accuracy: 0.5027\n",
      "Epoch 33/50\n",
      "323/323 [==============================] - 84s 261ms/step - loss: 1.3804 - accuracy: 0.5588 - val_loss: 1.5833 - val_accuracy: 0.5027\n",
      "Epoch 34/50\n",
      "323/323 [==============================] - 84s 261ms/step - loss: 1.3811 - accuracy: 0.5583 - val_loss: 1.5833 - val_accuracy: 0.5027\n",
      "Epoch 35/50\n",
      "323/323 [==============================] - 84s 261ms/step - loss: 1.3814 - accuracy: 0.5590 - val_loss: 1.5833 - val_accuracy: 0.5027\n",
      "Epoch 36/50\n",
      "323/323 [==============================] - 84s 261ms/step - loss: 1.3794 - accuracy: 0.5586 - val_loss: 1.5833 - val_accuracy: 0.5027\n",
      "Epoch 37/50\n",
      "323/323 [==============================] - 84s 261ms/step - loss: 1.3801 - accuracy: 0.5589 - val_loss: 1.5833 - val_accuracy: 0.5027\n",
      "Epoch 38/50\n",
      "323/323 [==============================] - 84s 261ms/step - loss: 1.3799 - accuracy: 0.5586 - val_loss: 1.5833 - val_accuracy: 0.5027\n",
      "Epoch 39/50\n",
      "323/323 [==============================] - 84s 261ms/step - loss: 1.3798 - accuracy: 0.5589 - val_loss: 1.5833 - val_accuracy: 0.5028\n",
      "Epoch 40/50\n",
      "323/323 [==============================] - 84s 261ms/step - loss: 1.3800 - accuracy: 0.5586 - val_loss: 1.5833 - val_accuracy: 0.5028\n",
      "Epoch 41/50\n",
      "323/323 [==============================] - 84s 261ms/step - loss: 1.3810 - accuracy: 0.5591 - val_loss: 1.5833 - val_accuracy: 0.5028\n",
      "Epoch 42/50\n",
      "323/323 [==============================] - 84s 261ms/step - loss: 1.3808 - accuracy: 0.5579 - val_loss: 1.5833 - val_accuracy: 0.5028\n",
      "Epoch 43/50\n",
      "323/323 [==============================] - 84s 261ms/step - loss: 1.3788 - accuracy: 0.5595 - val_loss: 1.5833 - val_accuracy: 0.5028\n",
      "Epoch 44/50\n",
      "323/323 [==============================] - 84s 261ms/step - loss: 1.3806 - accuracy: 0.5593 - val_loss: 1.5833 - val_accuracy: 0.5028\n",
      "Epoch 45/50\n",
      "323/323 [==============================] - 84s 261ms/step - loss: 1.3809 - accuracy: 0.5580 - val_loss: 1.5833 - val_accuracy: 0.5028\n",
      "Epoch 46/50\n",
      "323/323 [==============================] - 84s 261ms/step - loss: 1.3823 - accuracy: 0.5582 - val_loss: 1.5833 - val_accuracy: 0.5028\n",
      "Epoch 47/50\n",
      "323/323 [==============================] - 84s 261ms/step - loss: 1.3814 - accuracy: 0.5591 - val_loss: 1.5833 - val_accuracy: 0.5028\n",
      "Epoch 48/50\n",
      "323/323 [==============================] - 84s 261ms/step - loss: 1.3818 - accuracy: 0.5576 - val_loss: 1.5833 - val_accuracy: 0.5028\n",
      "Epoch 49/50\n",
      "323/323 [==============================] - 84s 261ms/step - loss: 1.3814 - accuracy: 0.5580 - val_loss: 1.5833 - val_accuracy: 0.5028\n",
      "Epoch 50/50\n",
      "323/323 [==============================] - 84s 261ms/step - loss: 1.3808 - accuracy: 0.5595 - val_loss: 1.5833 - val_accuracy: 0.5028\n"
     ]
    }
   ],
   "source": [
    "history = model.fit(x_train, y_train,\n",
    "                    batch_size=BATCH_SIZE,\n",
    "                    epochs=EPOCHS,\n",
    "                    validation_split=0.1,\n",
    "                    verbose=1)"
   ]
  },
  {
   "cell_type": "markdown",
   "id": "deluxe-bacteria",
   "metadata": {},
   "source": [
    "## Save trained model, tokenizer and encoder"
   ]
  },
  {
   "cell_type": "code",
   "execution_count": 20,
   "id": "b78b26c3",
   "metadata": {
    "execution": {
     "iopub.execute_input": "2022-03-13T04:49:59.129601Z",
     "iopub.status.busy": "2022-03-13T04:49:59.128703Z",
     "iopub.status.idle": "2022-03-13T04:50:01.152496Z",
     "shell.execute_reply": "2022-03-13T04:50:01.152030Z",
     "shell.execute_reply.started": "2022-03-12T18:27:57.398959Z"
    },
    "papermill": {
     "duration": 7.154177,
     "end_time": "2022-03-13T04:50:01.152625",
     "exception": false,
     "start_time": "2022-03-13T04:49:53.998448",
     "status": "completed"
    },
    "tags": []
   },
   "outputs": [],
   "source": [
    "model.save('deep_learning/deep_model.h5')\n",
    "w2v_model.save('deep_learning/word2vec.sav')\n",
    "pickle.dump(w2v_model, open('deep_learning/w2v.sav', \"wb\"))\n",
    "pickle.dump(tokenizer, open('deep_learning/tokenizer.sav', \"wb\"))\n",
    "pickle.dump(encoder, open('deep_learning/encoder.sav', \"wb\"))"
   ]
  },
  {
   "cell_type": "markdown",
   "id": "fresh-gateway",
   "metadata": {},
   "source": [
    "## Test the model on test data"
   ]
  },
  {
   "cell_type": "code",
   "execution_count": 21,
   "id": "ccc9b2a2",
   "metadata": {
    "execution": {
     "iopub.execute_input": "2022-03-13T04:50:11.963577Z",
     "iopub.status.busy": "2022-03-13T04:50:11.962642Z",
     "iopub.status.idle": "2022-03-13T04:50:19.773766Z",
     "shell.execute_reply": "2022-03-13T04:50:19.773313Z",
     "shell.execute_reply.started": "2022-03-12T18:27:59.913606Z"
    },
    "id": "g1HEAMVR3IVr",
    "papermill": {
     "duration": 12.939877,
     "end_time": "2022-03-13T04:50:19.773904",
     "exception": false,
     "start_time": "2022-03-13T04:50:06.834027",
     "status": "completed"
    },
    "tags": []
   },
   "outputs": [
    {
     "name": "stdout",
     "output_type": "stream",
     "text": [
      "90/90 [==============================] - 8s 85ms/step - loss: 1.5949 - accuracy: 0.4962\n",
      "\n",
      "ACCURACY: 0.4962283670902252\n",
      "LOSS: 1.5949293375015259\n"
     ]
    }
   ],
   "source": [
    "score = model.evaluate(x_test, y_test, batch_size=BATCH_SIZE)\n",
    "print()\n",
    "print(\"ACCURACY:\",score[1])\n",
    "print(\"LOSS:\",score[0])"
   ]
  },
  {
   "cell_type": "markdown",
   "id": "extreme-chaos",
   "metadata": {},
   "source": [
    "## Plot loss and accuarcy curves"
   ]
  },
  {
   "cell_type": "code",
   "execution_count": 22,
   "id": "f4b40f5b",
   "metadata": {
    "execution": {
     "iopub.execute_input": "2022-03-13T04:50:30.810779Z",
     "iopub.status.busy": "2022-03-13T04:50:30.809868Z",
     "iopub.status.idle": "2022-03-13T04:50:31.217133Z",
     "shell.execute_reply": "2022-03-13T04:50:31.216352Z",
     "shell.execute_reply.started": "2022-03-12T18:28:07.808208Z"
    },
    "id": "protected-bubble",
    "papermill": {
     "duration": 5.559864,
     "end_time": "2022-03-13T04:50:31.217258",
     "exception": false,
     "start_time": "2022-03-13T04:50:25.657394",
     "status": "completed"
    },
    "tags": []
   },
   "outputs": [
    {
     "data": {
      "image/png": "[encoded data removed]",
      "text/plain": [
       "<Figure size 432x288 with 1 Axes>"
      ]
     },
     "metadata": {
      "needs_background": "light"
     },
     "output_type": "display_data"
    },
    {
     "data": {
      "image/png": "[encoded data removed]",
      "text/plain": [
       "<Figure size 432x288 with 1 Axes>"
      ]
     },
     "metadata": {
      "needs_background": "light"
     },
     "output_type": "display_data"
    }
   ],
   "source": [
    "acc = history.history['accuracy']\n",
    "val_acc = history.history['val_accuracy']\n",
    "loss = history.history['loss']\n",
    "val_loss = history.history['val_loss']\n",
    " \n",
    "epochs = range(len(acc))\n",
    " \n",
    "plt.plot(epochs, acc, 'b', label='Training acc')\n",
    "plt.plot(epochs, val_acc, 'r', label='Validation acc')\n",
    "plt.title('Training and validation accuracy')\n",
    "plt.legend()\n",
    " \n",
    "plt.figure()\n",
    " \n",
    "plt.plot(epochs, loss, 'b', label='Training loss')\n",
    "plt.plot(epochs, val_loss, 'r', label='Validation loss')\n",
    "plt.title('Training and validation loss')\n",
    "plt.legend()\n",
    " \n",
    "plt.show()"
   ]
  },
  {
   "cell_type": "code",
   "execution_count": null,
   "id": "exciting-vector",
   "metadata": {},
   "outputs": [],
   "source": []
  }
 ],
 "metadata": {
  "kernelspec": {
   "display_name": "Python 3",
   "language": "python",
   "name": "python3"
  },
  "language_info": {
   "codemirror_mode": {
    "name": "ipython",
    "version": 3
   },
   "file_extension": ".py",
   "mimetype": "text/x-python",
   "name": "python",
   "nbconvert_exporter": "python",
   "pygments_lexer": "ipython3",
   "version": "3.9.2"
  },
  "papermill": {
   "default_parameters": {},
   "duration": 4635.211177,
   "end_time": "2022-03-13T04:50:50.860403",
   "environment_variables": {},
   "exception": null,
   "input_path": "__notebook__.ipynb",
   "output_path": "__notebook__.ipynb",
   "parameters": {},
   "start_time": "2022-03-13T03:33:35.649226",
   "version": "2.3.3"
  }
 },
 "nbformat": 4,
 "nbformat_minor": 5
}
