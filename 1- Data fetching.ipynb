{
 "cells": [
  {
   "cell_type": "markdown",
   "id": "hidden-contest",
   "metadata": {},
   "source": [
    "## Import necessary libs"
   ]
  },
  {
   "cell_type": "code",
   "execution_count": 3,
   "id": "fresh-pledge",
   "metadata": {},
   "outputs": [],
   "source": [
    "import numpy as np\n",
    "import pandas as pd\n",
    "import requests"
   ]
  },
  {
   "cell_type": "markdown",
   "id": "heavy-mitchell",
   "metadata": {},
   "source": [
    "## Read IDs file"
   ]
  },
  {
   "cell_type": "code",
   "execution_count": 4,
   "id": "likely-details",
   "metadata": {},
   "outputs": [
    {
     "name": "stdout",
     "output_type": "stream",
     "text": [
      "The shape of the dataset is (458197, 2).\n",
      "\n",
      "\n"
     ]
    },
    {
     "data": {
      "text/html": [
       "<div>\n",
       "<style scoped>\n",
       "    .dataframe tbody tr th:only-of-type {\n",
       "        vertical-align: middle;\n",
       "    }\n",
       "\n",
       "    .dataframe tbody tr th {\n",
       "        vertical-align: top;\n",
       "    }\n",
       "\n",
       "    .dataframe thead th {\n",
       "        text-align: right;\n",
       "    }\n",
       "</style>\n",
       "<table border=\"1\" class=\"dataframe\">\n",
       "  <thead>\n",
       "    <tr style=\"text-align: right;\">\n",
       "      <th></th>\n",
       "      <th>id</th>\n",
       "      <th>dialect</th>\n",
       "    </tr>\n",
       "  </thead>\n",
       "  <tbody>\n",
       "    <tr>\n",
       "      <th>0</th>\n",
       "      <td>1175358310087892992</td>\n",
       "      <td>IQ</td>\n",
       "    </tr>\n",
       "    <tr>\n",
       "      <th>1</th>\n",
       "      <td>1175416117793349632</td>\n",
       "      <td>IQ</td>\n",
       "    </tr>\n",
       "    <tr>\n",
       "      <th>2</th>\n",
       "      <td>1175450108898565888</td>\n",
       "      <td>IQ</td>\n",
       "    </tr>\n",
       "    <tr>\n",
       "      <th>3</th>\n",
       "      <td>1175471073770573824</td>\n",
       "      <td>IQ</td>\n",
       "    </tr>\n",
       "    <tr>\n",
       "      <th>4</th>\n",
       "      <td>1175496913145217024</td>\n",
       "      <td>IQ</td>\n",
       "    </tr>\n",
       "    <tr>\n",
       "      <th>...</th>\n",
       "      <td>...</td>\n",
       "      <td>...</td>\n",
       "    </tr>\n",
       "    <tr>\n",
       "      <th>458192</th>\n",
       "      <td>1019484980282580992</td>\n",
       "      <td>BH</td>\n",
       "    </tr>\n",
       "    <tr>\n",
       "      <th>458193</th>\n",
       "      <td>1021083283709407232</td>\n",
       "      <td>BH</td>\n",
       "    </tr>\n",
       "    <tr>\n",
       "      <th>458194</th>\n",
       "      <td>1017477537889431552</td>\n",
       "      <td>BH</td>\n",
       "    </tr>\n",
       "    <tr>\n",
       "      <th>458195</th>\n",
       "      <td>1022430374696239232</td>\n",
       "      <td>BH</td>\n",
       "    </tr>\n",
       "    <tr>\n",
       "      <th>458196</th>\n",
       "      <td>1022409931029458944</td>\n",
       "      <td>BH</td>\n",
       "    </tr>\n",
       "  </tbody>\n",
       "</table>\n",
       "<p>458197 rows × 2 columns</p>\n",
       "</div>"
      ],
      "text/plain": [
       "                         id dialect\n",
       "0       1175358310087892992      IQ\n",
       "1       1175416117793349632      IQ\n",
       "2       1175450108898565888      IQ\n",
       "3       1175471073770573824      IQ\n",
       "4       1175496913145217024      IQ\n",
       "...                     ...     ...\n",
       "458192  1019484980282580992      BH\n",
       "458193  1021083283709407232      BH\n",
       "458194  1017477537889431552      BH\n",
       "458195  1022430374696239232      BH\n",
       "458196  1022409931029458944      BH\n",
       "\n",
       "[458197 rows x 2 columns]"
      ]
     },
     "execution_count": 4,
     "metadata": {},
     "output_type": "execute_result"
    }
   ],
   "source": [
    "df = pd.read_csv('./data/dialect_dataset.csv')\n",
    "print(\"The shape of the dataset is {}.\\n\\n\".format(df.shape))\n",
    "df"
   ]
  },
  {
   "cell_type": "code",
   "execution_count": 8,
   "id": "intensive-cleaners",
   "metadata": {},
   "outputs": [
    {
     "name": "stdout",
     "output_type": "stream",
     "text": [
      "<class 'pandas.core.frame.DataFrame'>\n",
      "RangeIndex: 458197 entries, 0 to 458196\n",
      "Data columns (total 2 columns):\n",
      " #   Column   Non-Null Count   Dtype \n",
      "---  ------   --------------   ----- \n",
      " 0   id       458197 non-null  int64 \n",
      " 1   dialect  458197 non-null  object\n",
      "dtypes: int64(1), object(1)\n",
      "memory usage: 7.0+ MB\n"
     ]
    }
   ],
   "source": [
    "df.info()"
   ]
  },
  {
   "cell_type": "markdown",
   "id": "unavailable-nursing",
   "metadata": {},
   "source": [
    "## Read IDs as string into list"
   ]
  },
  {
   "cell_type": "code",
   "execution_count": 9,
   "id": "geological-thanks",
   "metadata": {},
   "outputs": [],
   "source": [
    "batch =[str(i) for i in df['id'].values.tolist()]\n",
    "\n",
    "tweets = dict()"
   ]
  },
  {
   "cell_type": "markdown",
   "id": "north-involvement",
   "metadata": {},
   "source": [
    "## Get The data from API 1000 ID by request"
   ]
  },
  {
   "cell_type": "code",
   "execution_count": 10,
   "id": "racial-realtor",
   "metadata": {},
   "outputs": [],
   "source": [
    "for i in range(0, int(len(batch)), 1000):\n",
    "    req = requests.post(url='https://recruitment.aimtechnologies.co/ai-tasks', json=batch[i:i+1000])\n",
    "    tweets.update(req.json())\n",
    "req = requests.post(url='https://recruitment.aimtechnologies.co/ai-tasks', json=batch[i:])\n",
    "tweets.update(req.json())    "
   ]
  },
  {
   "cell_type": "markdown",
   "id": "round-treasury",
   "metadata": {},
   "source": [
    "## Put the dictionary into data frame and merge it with dialect column "
   ]
  },
  {
   "cell_type": "code",
   "execution_count": 12,
   "id": "optional-works",
   "metadata": {},
   "outputs": [
    {
     "data": {
      "text/html": [
       "<div>\n",
       "<style scoped>\n",
       "    .dataframe tbody tr th:only-of-type {\n",
       "        vertical-align: middle;\n",
       "    }\n",
       "\n",
       "    .dataframe tbody tr th {\n",
       "        vertical-align: top;\n",
       "    }\n",
       "\n",
       "    .dataframe thead th {\n",
       "        text-align: right;\n",
       "    }\n",
       "</style>\n",
       "<table border=\"1\" class=\"dataframe\">\n",
       "  <thead>\n",
       "    <tr style=\"text-align: right;\">\n",
       "      <th></th>\n",
       "      <th>id</th>\n",
       "      <th>text</th>\n",
       "      <th>dialect</th>\n",
       "    </tr>\n",
       "  </thead>\n",
       "  <tbody>\n",
       "    <tr>\n",
       "      <th>0</th>\n",
       "      <td>1175358310087892992</td>\n",
       "      <td>@Nw8ieJUwaCAAreT لكن بالنهاية .. ينتفض .. يغير .</td>\n",
       "      <td>IQ</td>\n",
       "    </tr>\n",
       "    <tr>\n",
       "      <th>1</th>\n",
       "      <td>1175416117793349632</td>\n",
       "      <td>@7zNqXP0yrODdRjK يعني هذا محسوب على البشر .. ح...</td>\n",
       "      <td>IQ</td>\n",
       "    </tr>\n",
       "    <tr>\n",
       "      <th>2</th>\n",
       "      <td>1175450108898565888</td>\n",
       "      <td>@KanaanRema مبين من كلامه خليجي</td>\n",
       "      <td>IQ</td>\n",
       "    </tr>\n",
       "    <tr>\n",
       "      <th>3</th>\n",
       "      <td>1175471073770573824</td>\n",
       "      <td>@HAIDER76128900 يسلملي مرورك وروحك الحلوه💐</td>\n",
       "      <td>IQ</td>\n",
       "    </tr>\n",
       "    <tr>\n",
       "      <th>4</th>\n",
       "      <td>1175496913145217024</td>\n",
       "      <td>@hmo2406 وين هل الغيبه  اخ محمد 🌸🌺</td>\n",
       "      <td>IQ</td>\n",
       "    </tr>\n",
       "    <tr>\n",
       "      <th>...</th>\n",
       "      <td>...</td>\n",
       "      <td>...</td>\n",
       "      <td>...</td>\n",
       "    </tr>\n",
       "    <tr>\n",
       "      <th>458192</th>\n",
       "      <td>1019484980282580992</td>\n",
       "      <td>@Al_mhbaa_7 مبسوطين منك اللي باسطانا😅</td>\n",
       "      <td>BH</td>\n",
       "    </tr>\n",
       "    <tr>\n",
       "      <th>458193</th>\n",
       "      <td>1021083283709407232</td>\n",
       "      <td>@Zzainabali @P_ameerah والله ماينده ابش يختي</td>\n",
       "      <td>BH</td>\n",
       "    </tr>\n",
       "    <tr>\n",
       "      <th>458194</th>\n",
       "      <td>1017477537889431552</td>\n",
       "      <td>@Al_mhbaa_7 شو عملنا لك حنا تهربي مننا احنا مس...</td>\n",
       "      <td>BH</td>\n",
       "    </tr>\n",
       "    <tr>\n",
       "      <th>458195</th>\n",
       "      <td>1022430374696239232</td>\n",
       "      <td>@haneenalmwla الله يبارك فيها وبالعافيه 😋😋😋</td>\n",
       "      <td>BH</td>\n",
       "    </tr>\n",
       "    <tr>\n",
       "      <th>458196</th>\n",
       "      <td>1022409931029458944</td>\n",
       "      <td>@jolnar121 السحله ضيفي ي بتطلع لك سحليه😅😅</td>\n",
       "      <td>BH</td>\n",
       "    </tr>\n",
       "  </tbody>\n",
       "</table>\n",
       "<p>458197 rows × 3 columns</p>\n",
       "</div>"
      ],
      "text/plain": [
       "                         id  \\\n",
       "0       1175358310087892992   \n",
       "1       1175416117793349632   \n",
       "2       1175450108898565888   \n",
       "3       1175471073770573824   \n",
       "4       1175496913145217024   \n",
       "...                     ...   \n",
       "458192  1019484980282580992   \n",
       "458193  1021083283709407232   \n",
       "458194  1017477537889431552   \n",
       "458195  1022430374696239232   \n",
       "458196  1022409931029458944   \n",
       "\n",
       "                                                     text dialect  \n",
       "0        @Nw8ieJUwaCAAreT لكن بالنهاية .. ينتفض .. يغير .      IQ  \n",
       "1       @7zNqXP0yrODdRjK يعني هذا محسوب على البشر .. ح...      IQ  \n",
       "2                         @KanaanRema مبين من كلامه خليجي      IQ  \n",
       "3              @HAIDER76128900 يسلملي مرورك وروحك الحلوه💐      IQ  \n",
       "4                      @hmo2406 وين هل الغيبه  اخ محمد 🌸🌺      IQ  \n",
       "...                                                   ...     ...  \n",
       "458192              @Al_mhbaa_7 مبسوطين منك اللي باسطانا😅      BH  \n",
       "458193       @Zzainabali @P_ameerah والله ماينده ابش يختي      BH  \n",
       "458194  @Al_mhbaa_7 شو عملنا لك حنا تهربي مننا احنا مس...      BH  \n",
       "458195        @haneenalmwla الله يبارك فيها وبالعافيه 😋😋😋      BH  \n",
       "458196          @jolnar121 السحله ضيفي ي بتطلع لك سحليه😅😅      BH  \n",
       "\n",
       "[458197 rows x 3 columns]"
      ]
     },
     "execution_count": 12,
     "metadata": {},
     "output_type": "execute_result"
    }
   ],
   "source": [
    "all_df = pd.DataFrame()\n",
    "all_df['id']= tweets.keys()\n",
    "all_df['text']= tweets.values()\n",
    "all_df['dialect'] = df['dialect']\n",
    "all_df"
   ]
  },
  {
   "cell_type": "markdown",
   "id": "brilliant-parameter",
   "metadata": {},
   "source": [
    "## Save fetched data to csv"
   ]
  },
  {
   "cell_type": "code",
   "execution_count": null,
   "id": "ecological-kennedy",
   "metadata": {},
   "outputs": [],
   "source": [
    "all_df.to_csv('./data/Fetched_data.csv')"
   ]
  }
 ],
 "metadata": {
  "kernelspec": {
   "display_name": "Python 3",
   "language": "python",
   "name": "python3"
  },
  "language_info": {
   "codemirror_mode": {
    "name": "ipython",
    "version": 3
   },
   "file_extension": ".py",
   "mimetype": "text/x-python",
   "name": "python",
   "nbconvert_exporter": "python",
   "pygments_lexer": "ipython3",
   "version": "3.9.2"
  }
 },
 "nbformat": 4,
 "nbformat_minor": 5
}
